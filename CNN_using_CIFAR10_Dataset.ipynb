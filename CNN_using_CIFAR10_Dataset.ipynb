{
  "nbformat": 4,
  "nbformat_minor": 0,
  "metadata": {
    "colab": {
      "name": "CNN using CIFAR10 Dataset.ipynb",
      "provenance": [],
      "authorship_tag": "ABX9TyNvJrR6D/htHMZEAVdoHKCK",
      "include_colab_link": true
    },
    "kernelspec": {
      "display_name": "Python 3",
      "name": "python3"
    },
    "language_info": {
      "name": "python"
    },
    "accelerator": "GPU"
  },
  "cells": [
    {
      "cell_type": "markdown",
      "metadata": {
        "id": "view-in-github",
        "colab_type": "text"
      },
      "source": [
        "<a href=\"https://colab.research.google.com/github/GaneshBade/Deep-Learning-with-Tensorflow-Keras-and-pytorch/blob/main/CNN_using_CIFAR10_Dataset.ipynb\" target=\"_parent\"><img src=\"https://colab.research.google.com/assets/colab-badge.svg\" alt=\"Open In Colab\"/></a>"
      ]
    },
    {
      "cell_type": "code",
      "metadata": {
        "id": "kwM6o2CLASN3"
      },
      "source": [
        "import tensorflow as tf\n",
        "from tensorflow import keras\n",
        "from tensorflow.keras.utils import to_categorical\n",
        "from tensorflow.keras.models import Sequential\n",
        "from tensorflow.keras.layers import Dense\n",
        "from tensorflow.keras.layers import Flatten\n",
        "from tensorflow.keras.layers import Conv2D\n",
        "from tensorflow.keras.layers import Dropout\n",
        "from tensorflow.keras.layers import MaxPooling2D\n",
        "import numpy as np\n",
        "import logging\n",
        "tf.get_logger().setLevel(logging.ERROR)"
      ],
      "execution_count": 1,
      "outputs": []
    },
    {
      "cell_type": "code",
      "metadata": {
        "id": "Zjve8TpGBWEp"
      },
      "source": [
        "EPOCHS = 128\n",
        "BATCH_SIZE = 32"
      ],
      "execution_count": 2,
      "outputs": []
    },
    {
      "cell_type": "code",
      "metadata": {
        "id": "R00euRBPf8hX",
        "colab": {
          "base_uri": "https://localhost:8080/"
        },
        "outputId": "43d3b827-3443-4819-fae9-0fe948da0763"
      },
      "source": [
        "# Load the dataset\n",
        "cifar10 = keras.datasets.cifar10\n",
        "(train_images, train_labels), (test_images, test_labels) = cifar10.load_data()"
      ],
      "execution_count": 3,
      "outputs": [
        {
          "output_type": "stream",
          "text": [
            "Downloading data from https://www.cs.toronto.edu/~kriz/cifar-10-python.tar.gz\n",
            "170500096/170498071 [==============================] - 4s 0us/step\n"
          ],
          "name": "stdout"
        }
      ]
    },
    {
      "cell_type": "code",
      "metadata": {
        "colab": {
          "base_uri": "https://localhost:8080/"
        },
        "id": "z7XBy93ahgwT",
        "outputId": "bf19d1f3-45c3-4726-f70f-6143461355c2"
      },
      "source": [
        "train_images.shape, train_labels.shape, test_images.shape, test_labels.shape"
      ],
      "execution_count": 4,
      "outputs": [
        {
          "output_type": "execute_result",
          "data": {
            "text/plain": [
              "((50000, 32, 32, 3), (50000, 1), (10000, 32, 32, 3), (10000, 1))"
            ]
          },
          "metadata": {
            "tags": []
          },
          "execution_count": 4
        }
      ]
    },
    {
      "cell_type": "code",
      "metadata": {
        "colab": {
          "base_uri": "https://localhost:8080/"
        },
        "id": "e3O7m_5bhkNe",
        "outputId": "fba1c451-8d66-439f-e386-19b7dd34de3c"
      },
      "source": [
        "# Standardize (z-score) the dataset\n",
        "mean = np.mean(train_images)\n",
        "stddev = np.std(train_images)\n",
        "\n",
        "train_images = (train_images - mean) / stddev\n",
        "test_images = (test_images - mean) / stddev\n",
        "\n",
        "print(f\"mean:{mean}\")\n",
        "print(f\"std:{stddev}\")"
      ],
      "execution_count": 5,
      "outputs": [
        {
          "output_type": "stream",
          "text": [
            "mean:120.70756512369792\n",
            "std:64.1500758911213\n"
          ],
          "name": "stdout"
        }
      ]
    },
    {
      "cell_type": "code",
      "metadata": {
        "id": "iTAcC8cHjHzB"
      },
      "source": [
        "# Change the label to one-hot\n",
        "train_labels = to_categorical(train_labels, num_classes=10)\n",
        "test_labels = to_categorical(test_labels, num_classes=10)"
      ],
      "execution_count": 6,
      "outputs": []
    },
    {
      "cell_type": "code",
      "metadata": {
        "colab": {
          "base_uri": "https://localhost:8080/"
        },
        "id": "BEAJbSWRjkHG",
        "outputId": "49cc580f-c4ac-4ca7-ed82-630b62b49323"
      },
      "source": [
        "print(f\"Train Labels\")\n",
        "print(f\"{train_labels[:5]}\")\n",
        "print(f\"Test Labels\")\n",
        "print(f\"{test_labels[:5]}\")"
      ],
      "execution_count": 7,
      "outputs": [
        {
          "output_type": "stream",
          "text": [
            "Train Labels\n",
            "[[0. 0. 0. 0. 0. 0. 1. 0. 0. 0.]\n",
            " [0. 0. 0. 0. 0. 0. 0. 0. 0. 1.]\n",
            " [0. 0. 0. 0. 0. 0. 0. 0. 0. 1.]\n",
            " [0. 0. 0. 0. 1. 0. 0. 0. 0. 0.]\n",
            " [0. 1. 0. 0. 0. 0. 0. 0. 0. 0.]]\n",
            "Test Labels\n",
            "[[0. 0. 0. 1. 0. 0. 0. 0. 0. 0.]\n",
            " [0. 0. 0. 0. 0. 0. 0. 0. 1. 0.]\n",
            " [0. 0. 0. 0. 0. 0. 0. 0. 1. 0.]\n",
            " [1. 0. 0. 0. 0. 0. 0. 0. 0. 0.]\n",
            " [0. 0. 0. 0. 0. 0. 1. 0. 0. 0.]]\n"
          ],
          "name": "stdout"
        }
      ]
    },
    {
      "cell_type": "code",
      "metadata": {
        "id": "rT84g2Oxj57W"
      },
      "source": [
        "# Model with 4 convulutional layers and 2 fully-connected layers using dropout and maxpooling layers\n",
        "model = Sequential()\n",
        "model.add(Conv2D(64, (4,4), activation='relu', padding='same', input_shape=(32,32,3)))\n",
        "model.add(Dropout(0.2))\n",
        "model.add(Conv2D(64, (2, 2), strides=(2, 2), activation='relu', padding='same'))\n",
        "model.add(Dropout(0.2))\n",
        "model.add(Conv2D(32, (3,3), activation='relu', padding='same'))\n",
        "model.add(Dropout(0.2))\n",
        "model.add(Conv2D(32, (3,3), activation='relu', padding='same'))\n",
        "model.add(MaxPooling2D(pool_size=(2,2), strides=2))\n",
        "model.add(Dropout(0.2))\n",
        "model.add(Flatten())\n",
        "model.add(Dense(64, activation='relu'))\n",
        "model.add(Dropout(0.2))\n",
        "model.add(Dense(64, activation='relu'))\n",
        "model.add(Dropout(0.2))\n",
        "model.add(Dense(10, activation='softmax'))"
      ],
      "execution_count": 8,
      "outputs": []
    },
    {
      "cell_type": "markdown",
      "metadata": {
        "id": "D4iZYq4MkUje"
      },
      "source": [
        "## Plot DNN\n",
        "\n",
        "1. Install Graphviz and pydot"
      ]
    },
    {
      "cell_type": "code",
      "metadata": {
        "id": "Tcr7NItUkPch",
        "outputId": "e1fd8c74-63ea-410f-b4b9-a57eb749095a",
        "colab": {
          "base_uri": "https://localhost:8080/"
        }
      },
      "source": [
        "# https://pypi.python.org/pypi/pydot\n",
        "!apt-get -qq install -y graphviz && pip install pydot\n",
        "import pydot"
      ],
      "execution_count": 9,
      "outputs": [
        {
          "output_type": "stream",
          "text": [
            "Requirement already satisfied: pydot in /usr/local/lib/python3.7/dist-packages (1.3.0)\n",
            "Requirement already satisfied: pyparsing>=2.1.4 in /usr/local/lib/python3.7/dist-packages (from pydot) (2.4.7)\n"
          ],
          "name": "stdout"
        }
      ]
    },
    {
      "cell_type": "markdown",
      "metadata": {
        "id": "j167LnVTkpT9"
      },
      "source": [
        "Install cartopy"
      ]
    },
    {
      "cell_type": "code",
      "metadata": {
        "id": "NIK2G1OpkkLI",
        "outputId": "adf86775-0a15-499a-fe72-a1a85b19c235",
        "colab": {
          "base_uri": "https://localhost:8080/"
        }
      },
      "source": [
        "!pip install cartopy\n",
        "import cartopy"
      ],
      "execution_count": 10,
      "outputs": [
        {
          "output_type": "stream",
          "text": [
            "Collecting cartopy\n",
            "  Downloading Cartopy-0.19.0.post1.tar.gz (12.1 MB)\n",
            "\u001b[K     |████████████████████████████████| 12.1 MB 156 kB/s \n",
            "\u001b[?25h  Installing build dependencies ... \u001b[?25l\u001b[?25hdone\n",
            "  Getting requirements to build wheel ... \u001b[?25l\u001b[?25hdone\n",
            "    Preparing wheel metadata ... \u001b[?25l\u001b[?25hdone\n",
            "Requirement already satisfied: numpy>=1.13.3 in /usr/local/lib/python3.7/dist-packages (from cartopy) (1.19.5)\n",
            "Collecting pyshp>=2\n",
            "  Downloading pyshp-2.1.3.tar.gz (219 kB)\n",
            "\u001b[K     |████████████████████████████████| 219 kB 60.2 MB/s \n",
            "\u001b[?25hRequirement already satisfied: shapely>=1.5.6 in /usr/local/lib/python3.7/dist-packages (from cartopy) (1.7.1)\n",
            "Building wheels for collected packages: cartopy, pyshp\n",
            "  Building wheel for cartopy (PEP 517) ... \u001b[?25l\u001b[?25hdone\n",
            "  Created wheel for cartopy: filename=Cartopy-0.19.0.post1-cp37-cp37m-linux_x86_64.whl size=12516307 sha256=5adb18e78735d617393d456efa1495db531903680402520a9ef81c489c7dba9f\n",
            "  Stored in directory: /root/.cache/pip/wheels/98/01/f7/bd10aeb96fe4b518cde5f7c4f5e12c7202f85b7353a5017847\n",
            "  Building wheel for pyshp (setup.py) ... \u001b[?25l\u001b[?25hdone\n",
            "  Created wheel for pyshp: filename=pyshp-2.1.3-py3-none-any.whl size=37324 sha256=237b48b58957963df740d3e3c4c01d6a500ea1b7e9a6195354add01579718aaf\n",
            "  Stored in directory: /root/.cache/pip/wheels/43/f8/87/53c8cd41545ba20e536ea29a8fcb5431b5f477ca50d5dffbbe\n",
            "Successfully built cartopy pyshp\n",
            "Installing collected packages: pyshp, cartopy\n",
            "Successfully installed cartopy-0.19.0.post1 pyshp-2.1.3\n"
          ],
          "name": "stdout"
        }
      ]
    },
    {
      "cell_type": "code",
      "metadata": {
        "id": "Z_hhn9GzlKkH"
      },
      "source": [
        "# Plot the model\n",
        "from tensorflow.keras.utils import plot_model\n",
        "import pydot"
      ],
      "execution_count": 11,
      "outputs": []
    },
    {
      "cell_type": "code",
      "metadata": {
        "colab": {
          "base_uri": "https://localhost:8080/",
          "height": 43
        },
        "id": "3dg9rgDFq2sz",
        "outputId": "b609f681-3e47-4c69-8db2-bf64975ead77"
      },
      "source": [
        "plot_model(model, to_file='model.png', show_shapes=True, show_layer_names=True,\n",
        "           rankdir='LR', expand_nested = True, dpi=96)"
      ],
      "execution_count": 37,
      "outputs": [
        {
          "output_type": "execute_result",
          "data": {
            "image/png": "[encoded data removed]",
            "text/plain": [
              "<IPython.core.display.Image object>"
            ]
          },
          "metadata": {
            "tags": []
          },
          "execution_count": 37
        }
      ]
    },
    {
      "cell_type": "markdown",
      "metadata": {
        "id": "ZeHruMTekEXj"
      },
      "source": [
        "# New Section"
      ]
    },
    {
      "cell_type": "code",
      "metadata": {
        "id": "Lwg4yqJ-r9Da"
      },
      "source": [
        "# Compile and train the model\n",
        "model.compile(loss='categorical_crossentropy', optimizer='adam', metrics=['accuracy'])"
      ],
      "execution_count": null,
      "outputs": []
    },
    {
      "cell_type": "code",
      "metadata": {
        "colab": {
          "base_uri": "https://localhost:8080/"
        },
        "id": "IRlh-RcpszCk",
        "outputId": "75dccd4a-b15e-4a23-ae2b-30ffda2029a4"
      },
      "source": [
        "model.summary()"
      ],
      "execution_count": null,
      "outputs": [
        {
          "output_type": "stream",
          "text": [
            "Model: \"sequential_1\"\n",
            "_________________________________________________________________\n",
            "Layer (type)                 Output Shape              Param #   \n",
            "=================================================================\n",
            "conv2d (Conv2D)              (None, 32, 32, 64)        3136      \n",
            "_________________________________________________________________\n",
            "dropout (Dropout)            (None, 32, 32, 64)        0         \n",
            "_________________________________________________________________\n",
            "conv2d_1 (Conv2D)            (None, 16, 16, 64)        16448     \n",
            "_________________________________________________________________\n",
            "dropout_1 (Dropout)          (None, 16, 16, 64)        0         \n",
            "_________________________________________________________________\n",
            "conv2d_2 (Conv2D)            (None, 16, 16, 32)        18464     \n",
            "_________________________________________________________________\n",
            "dropout_2 (Dropout)          (None, 16, 16, 32)        0         \n",
            "_________________________________________________________________\n",
            "conv2d_3 (Conv2D)            (None, 16, 16, 32)        9248      \n",
            "_________________________________________________________________\n",
            "max_pooling2d (MaxPooling2D) (None, 8, 8, 32)          0         \n",
            "_________________________________________________________________\n",
            "dropout_3 (Dropout)          (None, 8, 8, 32)          0         \n",
            "_________________________________________________________________\n",
            "flatten (Flatten)            (None, 2048)              0         \n",
            "_________________________________________________________________\n",
            "dense (Dense)                (None, 64)                131136    \n",
            "_________________________________________________________________\n",
            "dropout_4 (Dropout)          (None, 64)                0         \n",
            "_________________________________________________________________\n",
            "dense_1 (Dense)              (None, 64)                4160      \n",
            "_________________________________________________________________\n",
            "dropout_5 (Dropout)          (None, 64)                0         \n",
            "_________________________________________________________________\n",
            "dense_2 (Dense)              (None, 10)                650       \n",
            "=================================================================\n",
            "Total params: 183,242\n",
            "Trainable params: 183,242\n",
            "Non-trainable params: 0\n",
            "_________________________________________________________________\n"
          ],
          "name": "stdout"
        }
      ]
    },
    {
      "cell_type": "code",
      "metadata": {
        "colab": {
          "background_save": true,
          "base_uri": "https://localhost:8080/"
        },
        "id": "gte6L1v1tV7u",
        "outputId": "8961456c-4bb3-4c0f-c896-7a9e1f6b8dba"
      },
      "source": [
        "history = model.fit(\n",
        "    train_images, train_labels, validation_data =\n",
        "    (test_images, test_labels), epochs=EPOCHS, \n",
        "    batch_size=BATCH_SIZE, verbose=2, shuffle=True)"
      ],
      "execution_count": null,
      "outputs": [
        {
          "output_type": "stream",
          "text": [
            "Epoch 1/128\n",
            "1563/1563 - 208s - loss: 1.6691 - accuracy: 0.3858 - val_loss: 1.3408 - val_accuracy: 0.5060\n",
            "Epoch 2/128\n",
            "1563/1563 - 204s - loss: 1.3348 - accuracy: 0.5227 - val_loss: 1.1151 - val_accuracy: 0.6042\n",
            "Epoch 3/128\n",
            "1563/1563 - 206s - loss: 1.1807 - accuracy: 0.5804 - val_loss: 1.0086 - val_accuracy: 0.6549\n",
            "Epoch 4/128\n",
            "1563/1563 - 205s - loss: 1.0993 - accuracy: 0.6137 - val_loss: 1.0238 - val_accuracy: 0.6413\n",
            "Epoch 5/128\n",
            "1563/1563 - 206s - loss: 1.0455 - accuracy: 0.6341 - val_loss: 0.9313 - val_accuracy: 0.6813\n",
            "Epoch 6/128\n",
            "1563/1563 - 207s - loss: 1.0011 - accuracy: 0.6510 - val_loss: 0.8847 - val_accuracy: 0.6970\n",
            "Epoch 7/128\n",
            "1563/1563 - 207s - loss: 0.9684 - accuracy: 0.6644 - val_loss: 0.8868 - val_accuracy: 0.6988\n",
            "Epoch 8/128\n",
            "1563/1563 - 207s - loss: 0.9456 - accuracy: 0.6709 - val_loss: 0.8472 - val_accuracy: 0.7145\n",
            "Epoch 9/128\n",
            "1563/1563 - 206s - loss: 0.9184 - accuracy: 0.6795 - val_loss: 0.8224 - val_accuracy: 0.7197\n",
            "Epoch 10/128\n",
            "1563/1563 - 208s - loss: 0.8944 - accuracy: 0.6884 - val_loss: 0.8674 - val_accuracy: 0.7044\n",
            "Epoch 11/128\n",
            "1563/1563 - 207s - loss: 0.8834 - accuracy: 0.6947 - val_loss: 0.8217 - val_accuracy: 0.7173\n",
            "Epoch 12/128\n",
            "1563/1563 - 207s - loss: 0.8580 - accuracy: 0.7033 - val_loss: 0.8046 - val_accuracy: 0.7260\n",
            "Epoch 13/128\n",
            "1563/1563 - 206s - loss: 0.8532 - accuracy: 0.7062 - val_loss: 0.7988 - val_accuracy: 0.7294\n",
            "Epoch 14/128\n",
            "1563/1563 - 207s - loss: 0.8357 - accuracy: 0.7098 - val_loss: 0.8080 - val_accuracy: 0.7290\n",
            "Epoch 15/128\n",
            "1563/1563 - 203s - loss: 0.8281 - accuracy: 0.7153 - val_loss: 0.7760 - val_accuracy: 0.7385\n",
            "Epoch 16/128\n",
            "1563/1563 - 202s - loss: 0.8217 - accuracy: 0.7174 - val_loss: 0.7812 - val_accuracy: 0.7310\n",
            "Epoch 17/128\n",
            "1563/1563 - 204s - loss: 0.8122 - accuracy: 0.7219 - val_loss: 0.7752 - val_accuracy: 0.7377\n",
            "Epoch 18/128\n"
          ],
          "name": "stdout"
        }
      ]
    },
    {
      "cell_type": "code",
      "metadata": {
        "id": "BoUI562Htg1_"
      },
      "source": [
        ""
      ],
      "execution_count": null,
      "outputs": []
    }
  ]
}